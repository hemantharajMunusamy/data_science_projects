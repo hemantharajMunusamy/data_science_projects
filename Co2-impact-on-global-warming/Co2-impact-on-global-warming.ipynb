{
 "cells": [
  {
   "cell_type": "markdown",
   "id": "8af9601a-7a12-4469-a14c-620ebd7e5368",
   "metadata": {},
   "source": [
    "## Study of Co2 and Ch4 trends:\n",
    "\n",
    "In this project, we analyse greenhouse gas data from [Global Monitoring Laboratory (GML) of the National Oceanic and Atmospheric Administration (NOAA)](https://gml.noaa.gov/ccgg/trends_ch4/). Using Co2 and Ch4 data available on th GML website, We examine the long-term trends and patterns of these gases over the years."
   ]
  },
  {
   "cell_type": "markdown",
   "id": "a96445bd-c8fb-42e2-bc0a-2e973f3e1c86",
   "metadata": {},
   "source": [
    "### 1. Read the data"
   ]
  },
  {
   "cell_type": "code",
   "execution_count": 1,
   "id": "b731bf07-edd7-4837-8e77-4409ba42acb2",
   "metadata": {},
   "outputs": [],
   "source": [
    "import csv\n",
    "\n",
    "def read_data(filename:str, field:list):\n",
    "    data = []\n",
    "    with open(filename) as f:\n",
    "        #Skip data starts with # because the data isn't exact csv format on their initial lines.\n",
    "        f_csv = [line for line in f if line[0] != \"#\"]\n",
    "        reader = csv.DictReader(f_csv, skipinitialspace=True, delimiter = ' ', fieldnames=field)\n",
    "        data = [line for line in reader]\n",
    "\n",
    "    return data"
   ]
  },
  {
   "cell_type": "code",
   "execution_count": 2,
   "id": "deafafc9-0e91-4b76-87b7-781ab316c98e",
   "metadata": {},
   "outputs": [],
   "source": [
    "co2_field = [\"year\", \"month\", \"decimal_date\", \"monthly_average\", \"de_seasonalized\", \"days\", \"std_dev_of_days\", \"unc_of_mon_mean\"]\n",
    "co2_data = read_data(\"./data/co2_monthly.csv\", co2_field)\n",
    "\n",
    "ch4_field = [\"year\", \"month\", \"decimal\", \"average\", \"average_unc\", \"trend\", \"trend_unc\"]\n",
    "ch4_data = read_data(\"./data/ch4_monthly.csv\", ch4_field)"
   ]
  },
  {
   "cell_type": "code",
   "execution_count": 3,
   "id": "894772de-ca62-4525-a5c1-5e11e1fa3450",
   "metadata": {},
   "outputs": [
    {
     "name": "stdout",
     "output_type": "stream",
     "text": [
      "Co2 DATA :-\n",
      "{'year': '1958', 'month': '3', 'decimal_date': '1958.2027', 'monthly_average': '315.71', 'de_seasonalized': '314.44', 'days': '-1', 'std_dev_of_days': '-9.99', 'unc_of_mon_mean': '-0.99'}\n",
      "\n",
      "Ch4 DATA :-\n",
      "{'year': '1983', 'month': '7', 'decimal': '1983.542', 'average': '1625.98', 'average_unc': '2.39', 'trend': '1635.09', 'trend_unc': '1.46'}\n",
      "\n"
     ]
    }
   ],
   "source": [
    "print(\"Co2 DATA :-\")\n",
    "print(co2_data[0])\n",
    "print()\n",
    "print(\"Ch4 DATA :-\")\n",
    "print(ch4_data[0])\n",
    "print()"
   ]
  },
  {
   "cell_type": "markdown",
   "id": "d3ded3a9-4a58-4b9f-a0d3-136b8e8c155f",
   "metadata": {},
   "source": [
    "### 2. Simplify the data : -\n",
    "\n",
    "\n",
    "Since Co2 and Ch4 contains numerous fields, we aim to extract only relevant ones for our analysis. The selected fields for each dataset are as follows:-\n",
    "* Co2 - \"year\", \"month\", \"monthly_average\"\n",
    "* Ch4 - \"year\", \"month\", \"average\"\n",
    "\n",
    "After selecting the relevant fields from the Co2 and Ch4 datasets, the columns **monthly_average** and **average** are renamed to **co2_concentration** and **ch4_concentration**, respectively for improved clarity and consistency in analysis."
   ]
  },
  {
   "cell_type": "code",
   "execution_count": 4,
   "id": "065a9cc2-23f4-46d8-ab4c-98c704c71c44",
   "metadata": {},
   "outputs": [],
   "source": [
    "def extract_selected_field(data:list, selected_field:list):\n",
    "    return [{key:val for key,val in row.items() if key in selected_field} for row in data]"
   ]
  },
  {
   "cell_type": "code",
   "execution_count": 15,
   "id": "d6af4486-0e30-42ff-985c-297c873e74f0",
   "metadata": {},
   "outputs": [
    {
     "name": "stdout",
     "output_type": "stream",
     "text": [
      "Extracted Co2 :  {'year': '1958', 'month': '3', 'monthly_average': '315.71'}\n",
      "\n",
      "Extracted Ch4 :  {'year': '1983', 'month': '7', 'average': '1625.98'}\n"
     ]
    }
   ],
   "source": [
    "co2_extract = extract_selected_field(co2_data, [\"year\", \"month\", \"monthly_average\"])\n",
    "print(\"Extracted Co2 : \", co2_extract[0])\n",
    "print()\n",
    "ch4_extract = extract_selected_field(ch4_data, [\"year\", \"month\", \"average\"])\n",
    "print(\"Extracted Ch4 : \", ch4_extract[0])"
   ]
  },
  {
   "cell_type": "code",
   "execution_count": 25,
   "id": "538bcee2-6f47-472e-8cf9-7322c4d54dc9",
   "metadata": {},
   "outputs": [],
   "source": [
    "def rename(data:dict, field:dict):\n",
    "    renamed_data = dict()\n",
    "    for key, val in data.items():\n",
    "        if key in field.keys():\n",
    "            renamed_data[field[key]]= val\n",
    "        else:\n",
    "            renamed_data[key] = val\n",
    "    return renamed_data\n",
    "    \n",
    "def rename_field(data:list, renamed_field:dict):\n",
    "    return [rename(row, renamed_field) for row in data]"
   ]
  },
  {
   "cell_type": "code",
   "execution_count": 27,
   "id": "e427da96-866a-43cd-ad31-b39b1d2f921e",
   "metadata": {},
   "outputs": [
    {
     "name": "stdout",
     "output_type": "stream",
     "text": [
      "Simplified Co2 :  {'year': '1958', 'month': '3', 'co2_concentration': '315.71'}\n",
      "\n",
      "Simplifed Ch4 :  {'year': '1983', 'month': '7', 'ch4_concentration': '1625.98'}\n"
     ]
    }
   ],
   "source": [
    "co2_simplified = rename_field(co2_extract, {\"monthly_average\":\"co2_concentration\"})\n",
    "print(\"Simplified Co2 : \", co2_simplified[0])\n",
    "print()\n",
    "\n",
    "ch4_simplified = rename_field(ch4_extract, {\"average\": \"ch4_concentration\"})\n",
    "print(\"Simplifed Ch4 : \", ch4_simplified[0])"
   ]
  },
  {
   "cell_type": "markdown",
   "id": "7857ac02-a4a0-4f06-af00-e007457becf3",
   "metadata": {},
   "source": [
    "### 3.1 Fixing the data types\n",
    "\n",
    "Since the data types of the simplifed data of Co2 and Ch4 datasets are all represented in the String format, we need to convert to each field to their respective data types such as year, month to **int** type meanwhile co2_concentration and ch4_concentration to **float** types.\n",
    "\n",
    "Since the simplifed Co2 and Ch4 datasets have all fields represented as string, it is necessary to convert them to their appropriate data types. Specifically, the **year** and **month** fields are converted to **integer(int)**, while the **co2_concentration** and **ch4_concentration** fields are converted to **floating-point(float)** numbers."
   ]
  },
  {
   "cell_type": "code",
   "execution_count": 29,
   "id": "2e2a4d0f-c0a1-476f-b166-e1a771e7440d",
   "metadata": {},
   "outputs": [],
   "source": [
    "# WRITE SOLUTION HERE\n",
    "def fix_data_types(data:list, field_types:dict):\n",
    "    return [ {key:field_types[key](val) for key,val in row.items()} for row in data]"
   ]
  },
  {
   "cell_type": "code",
   "execution_count": 32,
   "id": "0ae8ecd6-de56-4189-8638-ded8128d5358",
   "metadata": {},
   "outputs": [
    {
     "name": "stdout",
     "output_type": "stream",
     "text": [
      "Fixed data types of Co2 :  {'year': 1958, 'month': 3, 'co2_concentration': 315.71}\n",
      "\n",
      "Fixed data types of Ch4 :  {'year': 1983, 'month': 7, 'ch4_concentration': 1625.98}\n"
     ]
    }
   ],
   "source": [
    "co2_fixed = fix_data_types(co2_simplified, {\"year\":int, \"month\":int, \"co2_concentration\":float})\n",
    "print(\"Fixed data types of Co2 : \", co2_fixed[0])\n",
    "print()\n",
    "\n",
    "ch4_fixed = fix_data_types(ch4_simplified, {\"year\":int, \"month\":int, \"ch4_concentration\":float})\n",
    "print(\"Fixed data types of Ch4 : \", ch4_fixed[0])"
   ]
  },
  {
   "cell_type": "markdown",
   "id": "af95d69c-659d-443e-b2be-7018dd2527f1",
   "metadata": {},
   "source": [
    "### 3.2 Fixing the units\n",
    "\n",
    "Since the concentration units of Co2 and Ch4 differ - Co2 is measured in **parts per million (ppm)**, meanwhile Ch4 measured in **parts per billion (ppb)** - it is necessary to convert both datasets to the same unit, expressed in ppm, for consistent analysis and further processing."
   ]
  },
  {
   "cell_type": "code",
   "execution_count": 33,
   "id": "569d9ac6-4b8d-4fa9-846a-b49df84192a2",
   "metadata": {},
   "outputs": [],
   "source": [
    "def ppb_ppm(row:dict):\n",
    "    row['ch4_concentration'] = row['ch4_concentration']/1000\n",
    "    return row\n",
    "    \n",
    "def convert_ch4_concentration_to_ppm(data):\n",
    "    return [ppb_ppm(row) for row in data]"
   ]
  },
  {
   "cell_type": "code",
   "execution_count": 34,
   "id": "3a54c031-7b03-45c2-a410-07b1dce59ac2",
   "metadata": {},
   "outputs": [
    {
     "name": "stdout",
     "output_type": "stream",
     "text": [
      "Fixed units of Ch4 :  {'year': 1983, 'month': 7, 'ch4_concentration': 1.62598}\n"
     ]
    }
   ],
   "source": [
    "ch4_ppm = convert_ch4_concentration_to_ppm(ch4_fixed)\n",
    "print(\"Fixed units of Ch4 : \", ch4_ppm[0])"
   ]
  },
  {
   "cell_type": "markdown",
   "id": "d3aa3229-f30f-46a5-8fc8-cfe4c4e13669",
   "metadata": {},
   "source": [
    "### 4. Combining the data\n",
    "Next, We combine the two datasets to a create a single datatset containing the fields **year**, **month**, **co2_concentration** and **ch4_concentration**."
   ]
  },
  {
   "cell_type": "code",
   "execution_count": 39,
   "id": "f6ee4687-48a1-4cd1-a11c-63ea16ef15f8",
   "metadata": {},
   "outputs": [],
   "source": [
    "def join_data(co2_data:list, ch4_data:list):\n",
    "    ch4_better_key = { (row['year'], row['month']): row['ch4_concentration']  for row in ch4_data}\n",
    "    output = []\n",
    "    for co2_row in co2_data:\n",
    "        index = (co2_row['year'], co2_row['month'])\n",
    "        for index in ch4_better_key:\n",
    "            co2_row['ch4_concentration'] = ch4_better_key[index]\n",
    "            output.append(co2_row)\n",
    "    return output"
   ]
  },
  {
   "cell_type": "code",
   "execution_count": 40,
   "id": "a5bb66f6-a4b7-4d99-8263-8d7cfa05d802",
   "metadata": {},
   "outputs": [
    {
     "name": "stdout",
     "output_type": "stream",
     "text": [
      "Greenhouse gas :  {'year': 1958, 'month': 3, 'co2_concentration': 315.71, 'ch4_concentration': 1.93354}\n"
     ]
    }
   ],
   "source": [
    "greenhouse_gas = join_data(co2_fixed, ch4_ppm)\n",
    "print(\"Greenhouse gas : \", greenhouse_gas[0])"
   ]
  },
  {
   "cell_type": "markdown",
   "id": "ec2173eb-9f98-472c-877f-77e1b94705c6",
   "metadata": {},
   "source": [
    "### 5. Processing the data"
   ]
  },
  {
   "cell_type": "code",
   "execution_count": null,
   "id": "2c357375-55df-4556-a636-360c3886905b",
   "metadata": {},
   "outputs": [],
   "source": []
  }
 ],
 "metadata": {
  "kernelspec": {
   "display_name": "Python 3 (ipykernel)",
   "language": "python",
   "name": "python3"
  },
  "language_info": {
   "codemirror_mode": {
    "name": "ipython",
    "version": 3
   },
   "file_extension": ".py",
   "mimetype": "text/x-python",
   "name": "python",
   "nbconvert_exporter": "python",
   "pygments_lexer": "ipython3",
   "version": "3.12.11"
  }
 },
 "nbformat": 4,
 "nbformat_minor": 5
}
